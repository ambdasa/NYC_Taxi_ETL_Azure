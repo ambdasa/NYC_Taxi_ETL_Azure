{
 "cells": [
  {
   "cell_type": "code",
   "execution_count": null,
   "id": "34d0420b-e995-472d-87b8-388ccf3bdcc8",
   "metadata": {
    "scrolled": true
   },
   "outputs": [
    {
     "name": "stdout",
     "output_type": "stream",
     "text": [
      "✅ Successfully uploaded 'taxi_zone_lookup.csv' to Azure container 'raw-data'.\n"
     ]
    }
   ],
   "source": [
    "from azure.storage.blob import BlobServiceClient\n",
    "\n",
    "# === CONFIGURATION ===\n",
    "connection_string = \"xyz\"  # 🔐 Replace this with your actual Azure Storage connection string\n",
    "container_name = \"raw-data\"\n",
    "local_file_path = r\"A:\\DE\\NYC-Taxi-ETL-Azure\\taxi_zone_lookup.csv\"\n",
    "blob_name = \"taxi_zone_lookup.csv\"  # How the file will appear in Azure\n",
    "\n",
    "# === UPLOAD TO BLOB STORAGE ===\n",
    "try:\n",
    "    blob_service_client = BlobServiceClient.from_connection_string(connection_string)\n",
    "    blob_client = blob_service_client.get_blob_client(container=container_name, blob=blob_name)\n",
    "\n",
    "    with open(local_file_path, \"rb\") as data:\n",
    "        blob_client.upload_blob(data, overwrite=True)\n",
    "\n",
    "    print(f\"✅ Successfully uploaded '{blob_name}' to Azure container '{container_name}'.\")\n",
    "\n",
    "except Exception as e:\n",
    "    print(\"❌ Upload failed:\", e)\n"
   ]
  },
  {
   "cell_type": "code",
   "execution_count": 3,
   "id": "4e5f2cd9-bec6-4c50-91ce-58310365b25a",
   "metadata": {},
   "outputs": [
    {
     "name": "stdout",
     "output_type": "stream",
     "text": [
      "✅ Transformed file uploaded as 'taxi_zone_lookup_transformed.csv' in container 'transformed-data'\n"
     ]
    }
   ],
   "source": [
    "import pandas as pd\n",
    "from azure.storage.blob import BlobServiceClient\n",
    "from io import BytesIO\n",
    "\n",
    "# === CONFIG ===\n",
    "connection_string = \"DefaultEndpointsProtocol=https;AccountName=ambinyctaxistorage;AccountKey=ym+nDxr6ssJOZ/1x/YZB6m1OIINYPw45tayGFDnTjXnlia/sUe9alZp4X78/Aksbfp1f+6HWQde2+AStH4p5RQ==;EndpointSuffix=core.windows.net\"\n",
    "raw_container = \"raw-data\"\n",
    "transformed_container = \"transformed-data\"\n",
    "blob_name = \"taxi_zone_lookup.csv\"\n",
    "\n",
    "# === Connect to Blob Service ===\n",
    "blob_service_client = BlobServiceClient.from_connection_string(connection_string)\n",
    "\n",
    "# === Step 1: Read Raw CSV from Azure Blob ===\n",
    "blob_client = blob_service_client.get_blob_client(container=raw_container, blob=blob_name)\n",
    "download_stream = blob_client.download_blob()\n",
    "raw_data = download_stream.readall()\n",
    "\n",
    "# Read into Pandas\n",
    "df = pd.read_csv(BytesIO(raw_data))\n",
    "\n",
    "# === Step 2: Clean / Transform ===\n",
    "# Example transformations\n",
    "df.columns = df.columns.str.lower()  # Lowercase column names\n",
    "df = df.dropna()  # Drop rows with missing values\n",
    "\n",
    "# === Step 3: Save Transformed CSV in Memory ===\n",
    "output = BytesIO()\n",
    "df.to_csv(output, index=False)\n",
    "output.seek(0)\n",
    "\n",
    "# === Step 4: Upload to Transformed Container ===\n",
    "# Make sure the container exists (create if not)\n",
    "try:\n",
    "    blob_service_client.create_container(transformed_container)\n",
    "except:\n",
    "    pass  # Container probably already exists\n",
    "\n",
    "transformed_blob_name = \"taxi_zone_lookup_transformed.csv\"\n",
    "transformed_blob_client = blob_service_client.get_blob_client(container=transformed_container, blob=transformed_blob_name)\n",
    "transformed_blob_client.upload_blob(output, overwrite=True)\n",
    "\n",
    "print(f\"✅ Transformed file uploaded as '{transformed_blob_name}' in container '{transformed_container}'\")\n"
   ]
  },
  {
   "cell_type": "code",
   "execution_count": null,
   "id": "4f1dcafa-ec9d-4da9-aaf7-1b2399e9ab40",
   "metadata": {},
   "outputs": [],
   "source": []
  }
 ],
 "metadata": {
  "kernelspec": {
   "display_name": "Python 3 (ipykernel)",
   "language": "python",
   "name": "python3"
  },
  "language_info": {
   "codemirror_mode": {
    "name": "ipython",
    "version": 3
   },
   "file_extension": ".py",
   "mimetype": "text/x-python",
   "name": "python",
   "nbconvert_exporter": "python",
   "pygments_lexer": "ipython3",
   "version": "3.9.9"
  }
 },
 "nbformat": 4,
 "nbformat_minor": 5
}
